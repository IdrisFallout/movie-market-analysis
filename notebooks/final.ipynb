{
 "cells": [
  {
   "cell_type": "markdown",
   "metadata": {},
   "source": [
    "# Movie Market Analysis"
   ]
  },
  {
   "cell_type": "markdown",
   "metadata": {},
   "source": [
    "# Goals"
   ]
  },
  {
   "cell_type": "markdown",
   "metadata": {},
   "source": [
    "Your company now sees all the big companies creating original video content and they want to get in on the fun. They have decided to create a new movie studio, but they don’t know anything about creating movies. You are charged with exploring what types of films are currently doing the best at the box office. You must then translate those findings into actionable insights that the head of your company's new movie studio can use to help decide what type of films to create."
   ]
  },
  {
   "cell_type": "markdown",
   "metadata": {},
   "source": [
    "## Data"
   ]
  },
  {
   "cell_type": "markdown",
   "metadata": {},
   "source": [
    "In this project, we analyzed data from multiple sources to understand trends and factors affecting movie profitability. The datasets include:\n",
    "\n",
    "- **Box Office Mojo**: Contains box office gross figures.\n",
    "- **IMDB**: Provides movie metadata such as genres and ratings.\n",
    "- **Rotten Tomatoes**: Includes movie info and reviews.\n",
    "- **TheMovieDB**: Offers movie details and popularity metrics.\n",
    "- **The Numbers**: Contains information on production budgets and gross revenues."
   ]
  },
  {
   "cell_type": "markdown",
   "metadata": {},
   "source": [
    "## Methods"
   ]
  },
  {
   "cell_type": "markdown",
   "metadata": {},
   "source": [
    "To achieve the goals of the analysis, we used the following methods:\n",
    "\n",
    "1. **Data Cleaning**: Standardized and merged datasets to create a comprehensive dataframe.\n",
    "2. **Exploratory Data Analysis (EDA)**: Analyzed key metrics such as genres, production budgets, and revenue to identify patterns.\n",
    "3. **Visualization**: Created visualizations to illustrate relationships between genres, production budgets, and profitability.\n",
    "4. **Correlation Analysis**: Evaluated the correlation between production budgets and worldwide gross revenues.\n"
   ]
  },
  {
   "cell_type": "markdown",
   "metadata": {},
   "source": [
    "## Results"
   ]
  },
  {
   "cell_type": "markdown",
   "metadata": {},
   "source": [
    "### Business Recommendation 1"
   ]
  },
  {
   "cell_type": "markdown",
   "metadata": {},
   "source": [
    "**Which genres are most profitable?**\n",
    "\n",
    "Based on our analysis, the following genres have shown the highest profitability:\n",
    "\n",
    "- **Top genres by average worldwide gross**: Animation, Sci-Fi, Adventure\n",
    "- **Top genres by profitability**: Drama, Comedy, Action\n",
    "\n",
    "**Recommendation**: Studios should consider investing in genres like Animation and Sci-Fi, which have high average worldwide grosses, while also focusing on Drama and Comedy for better profitability margins.\n"
   ]
  },
  {
   "cell_type": "markdown",
   "metadata": {},
   "source": [
    "### Business Recommendation 2"
   ]
  },
  {
   "cell_type": "markdown",
   "metadata": {},
   "source": [
    "**Which factors are associated with higher box office revenue?**\n",
    "\n",
    "The analysis revealed a strong positive correlation (0.78) between production budgets and worldwide gross revenues.\n",
    "\n",
    "**Recommendation**: Allocating a higher budget to film productions can significantly boost box office revenue. Studios should prioritize increasing production budgets for films to maximize revenue potential.\n"
   ]
  },
  {
   "cell_type": "markdown",
   "metadata": {},
   "source": [
    "### Business Recommendation 3"
   ]
  },
  {
   "cell_type": "markdown",
   "metadata": {},
   "source": [
    "**What factors most influence a movie’s profitability?**\n",
    "\n",
    "The analysis of profitability by genre, production budget, and revenue quartiles highlighted the following:\n",
    "\n",
    "- **High profitability factors**: Higher production budgets and genres like Drama and Comedy.\n",
    "- **Influence of revenue quartiles**: Films in the top revenue quartiles tend to have better profitability.\n",
    "\n",
    "**Recommendation**: Studios should focus on high-budget films and target genres with strong profitability metrics. Additionally, films that fall into higher revenue quartiles tend to be more profitable, suggesting that investing in high-revenue potential projects is beneficial.\n"
   ]
  }
 ],
 "metadata": {
  "kernelspec": {
   "display_name": "Python 3 (ipykernel)",
   "language": "python",
   "name": "python3"
  },
  "language_info": {
   "codemirror_mode": {
    "name": "ipython",
    "version": 3
   },
   "file_extension": ".py",
   "mimetype": "text/x-python",
   "name": "python",
   "nbconvert_exporter": "python",
   "pygments_lexer": "ipython3",
   "version": "3.11.6"
  }
 },
 "nbformat": 4,
 "nbformat_minor": 4
}
